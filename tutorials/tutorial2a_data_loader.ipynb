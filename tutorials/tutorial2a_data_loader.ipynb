{
 "cells": [
  {
   "cell_type": "markdown",
   "source": [
    "# Data Loading Tutorial\n",
    "This is a tutorial on loading of example proteomics datasets.\n",
    "\n",
    "Various omics datasets can be loaded with ``xo.load_dataset``: "
   ],
   "metadata": {
    "collapsed": false
   }
  },
  {
   "cell_type": "code",
   "execution_count": 1,
   "outputs": [
    {
     "data": {
      "text/plain": "               Dataset   Data Type                                Description                                          Condition Quantification   Reference\n0   PROT_DEMYELINATION   Proteomic  Demylination recovery experiment in mouse  4 timepoints in days [‘d00’, ‘d04’, ‘d10’, ‘d14’]            LFQ  Penktert21\n1  LIPID_DEMYELINATION  Lipidomics  Demylination recovery experiment in mouse  4 timepoints in days [‘d00’, ‘d04’, ‘d10’, ‘d14’]       Standard  Penktert21",
      "text/html": "<div>\n<style scoped>\n    .dataframe tbody tr th:only-of-type {\n        vertical-align: middle;\n    }\n\n    .dataframe tbody tr th {\n        vertical-align: top;\n    }\n\n    .dataframe thead th {\n        text-align: right;\n    }\n</style>\n<table border=\"1\" class=\"dataframe\">\n  <thead>\n    <tr style=\"text-align: right;\">\n      <th></th>\n      <th>Dataset</th>\n      <th>Data Type</th>\n      <th>Description</th>\n      <th>Condition</th>\n      <th>Quantification</th>\n      <th>Reference</th>\n    </tr>\n  </thead>\n  <tbody>\n    <tr>\n      <th>0</th>\n      <td>PROT_DEMYELINATION</td>\n      <td>Proteomic</td>\n      <td>Demylination recovery experiment in mouse</td>\n      <td>4 timepoints in days [‘d00’, ‘d04’, ‘d10’, ‘d14’]</td>\n      <td>LFQ</td>\n      <td>Penktert21</td>\n    </tr>\n    <tr>\n      <th>1</th>\n      <td>LIPID_DEMYELINATION</td>\n      <td>Lipidomics</td>\n      <td>Demylination recovery experiment in mouse</td>\n      <td>4 timepoints in days [‘d00’, ‘d04’, ‘d10’, ‘d14’]</td>\n      <td>Standard</td>\n      <td>Penktert21</td>\n    </tr>\n  </tbody>\n</table>\n</div>"
     },
     "execution_count": 1,
     "metadata": {},
     "output_type": "execute_result"
    }
   ],
   "source": [
    "import xomics as xo\n",
    "df_datasets = xo.load_dataset()\n",
    "df_datasets"
   ],
   "metadata": {
    "collapsed": false,
    "ExecuteTime": {
     "end_time": "2023-10-19T09:42:15.034221022Z",
     "start_time": "2023-10-19T09:42:12.800472459Z"
    }
   }
  },
  {
   "cell_type": "code",
   "execution_count": 3,
   "outputs": [
    {
     "data": {
      "text/plain": "  timepoint  sample  ce_15:0;0  ce_16:0;0  ce_16:1;0  ce_18:0;0  ce_18:1;0  ce_20:3;0  ce_20:4;0  ce_21:0;0  ...  ps_16:1;0_22:5;0  ps_18:2;0_20:4;0  ps_16:1;0_22:6;0  ps_18:0;0_21:0;0  ps_17:0;0_22:1;0  ps_17:1;0_22:0;0  ps_18:0;0_21:1;0  ps_18:1;0_21:0;0  ps_19:0;0_20:1;0  ps_17:1;0_22:1;0\n0      0dpi  0dpi-2        NaN        NaN        NaN        NaN        NaN        NaN        NaN        NaN  ...               NaN               NaN         10.104308               NaN               NaN               NaN               NaN          3.241316               NaN               NaN\n1      0dpi  0dpi-3        NaN        NaN        NaN        NaN        NaN        NaN        NaN        NaN  ...               NaN               NaN               NaN               NaN               NaN          0.054706               NaN          0.864512          0.465531               NaN\n2      0dpi  0dpi-4        NaN        NaN        NaN        NaN        NaN        NaN        NaN        NaN  ...               NaN               NaN               NaN          5.341029               NaN               NaN               NaN          1.135322          0.576992               NaN\n3      0dpi  0dpi-5        NaN        NaN        NaN        NaN        NaN        NaN        NaN        NaN  ...               NaN               NaN               NaN          8.250989           0.12316               NaN               NaN          1.687771          0.788158          0.070025\n4      3dpi  3dpi-1        NaN        NaN        NaN        NaN        NaN        NaN        NaN        NaN  ...          0.809395               NaN               NaN               NaN               NaN          0.046467               NaN          0.689641          0.286349               NaN\n\n[5 rows x 1024 columns]",
      "text/html": "<div>\n<style scoped>\n    .dataframe tbody tr th:only-of-type {\n        vertical-align: middle;\n    }\n\n    .dataframe tbody tr th {\n        vertical-align: top;\n    }\n\n    .dataframe thead th {\n        text-align: right;\n    }\n</style>\n<table border=\"1\" class=\"dataframe\">\n  <thead>\n    <tr style=\"text-align: right;\">\n      <th></th>\n      <th>timepoint</th>\n      <th>sample</th>\n      <th>ce_15:0;0</th>\n      <th>ce_16:0;0</th>\n      <th>ce_16:1;0</th>\n      <th>ce_18:0;0</th>\n      <th>ce_18:1;0</th>\n      <th>ce_20:3;0</th>\n      <th>ce_20:4;0</th>\n      <th>ce_21:0;0</th>\n      <th>...</th>\n      <th>ps_16:1;0_22:5;0</th>\n      <th>ps_18:2;0_20:4;0</th>\n      <th>ps_16:1;0_22:6;0</th>\n      <th>ps_18:0;0_21:0;0</th>\n      <th>ps_17:0;0_22:1;0</th>\n      <th>ps_17:1;0_22:0;0</th>\n      <th>ps_18:0;0_21:1;0</th>\n      <th>ps_18:1;0_21:0;0</th>\n      <th>ps_19:0;0_20:1;0</th>\n      <th>ps_17:1;0_22:1;0</th>\n    </tr>\n  </thead>\n  <tbody>\n    <tr>\n      <th>0</th>\n      <td>0dpi</td>\n      <td>0dpi-2</td>\n      <td>NaN</td>\n      <td>NaN</td>\n      <td>NaN</td>\n      <td>NaN</td>\n      <td>NaN</td>\n      <td>NaN</td>\n      <td>NaN</td>\n      <td>NaN</td>\n      <td>...</td>\n      <td>NaN</td>\n      <td>NaN</td>\n      <td>10.104308</td>\n      <td>NaN</td>\n      <td>NaN</td>\n      <td>NaN</td>\n      <td>NaN</td>\n      <td>3.241316</td>\n      <td>NaN</td>\n      <td>NaN</td>\n    </tr>\n    <tr>\n      <th>1</th>\n      <td>0dpi</td>\n      <td>0dpi-3</td>\n      <td>NaN</td>\n      <td>NaN</td>\n      <td>NaN</td>\n      <td>NaN</td>\n      <td>NaN</td>\n      <td>NaN</td>\n      <td>NaN</td>\n      <td>NaN</td>\n      <td>...</td>\n      <td>NaN</td>\n      <td>NaN</td>\n      <td>NaN</td>\n      <td>NaN</td>\n      <td>NaN</td>\n      <td>0.054706</td>\n      <td>NaN</td>\n      <td>0.864512</td>\n      <td>0.465531</td>\n      <td>NaN</td>\n    </tr>\n    <tr>\n      <th>2</th>\n      <td>0dpi</td>\n      <td>0dpi-4</td>\n      <td>NaN</td>\n      <td>NaN</td>\n      <td>NaN</td>\n      <td>NaN</td>\n      <td>NaN</td>\n      <td>NaN</td>\n      <td>NaN</td>\n      <td>NaN</td>\n      <td>...</td>\n      <td>NaN</td>\n      <td>NaN</td>\n      <td>NaN</td>\n      <td>5.341029</td>\n      <td>NaN</td>\n      <td>NaN</td>\n      <td>NaN</td>\n      <td>1.135322</td>\n      <td>0.576992</td>\n      <td>NaN</td>\n    </tr>\n    <tr>\n      <th>3</th>\n      <td>0dpi</td>\n      <td>0dpi-5</td>\n      <td>NaN</td>\n      <td>NaN</td>\n      <td>NaN</td>\n      <td>NaN</td>\n      <td>NaN</td>\n      <td>NaN</td>\n      <td>NaN</td>\n      <td>NaN</td>\n      <td>...</td>\n      <td>NaN</td>\n      <td>NaN</td>\n      <td>NaN</td>\n      <td>8.250989</td>\n      <td>0.12316</td>\n      <td>NaN</td>\n      <td>NaN</td>\n      <td>1.687771</td>\n      <td>0.788158</td>\n      <td>0.070025</td>\n    </tr>\n    <tr>\n      <th>4</th>\n      <td>3dpi</td>\n      <td>3dpi-1</td>\n      <td>NaN</td>\n      <td>NaN</td>\n      <td>NaN</td>\n      <td>NaN</td>\n      <td>NaN</td>\n      <td>NaN</td>\n      <td>NaN</td>\n      <td>NaN</td>\n      <td>...</td>\n      <td>0.809395</td>\n      <td>NaN</td>\n      <td>NaN</td>\n      <td>NaN</td>\n      <td>NaN</td>\n      <td>0.046467</td>\n      <td>NaN</td>\n      <td>0.689641</td>\n      <td>0.286349</td>\n      <td>NaN</td>\n    </tr>\n  </tbody>\n</table>\n<p>5 rows × 1024 columns</p>\n</div>"
     },
     "execution_count": 3,
     "metadata": {},
     "output_type": "execute_result"
    }
   ],
   "source": [
    "df_lfq = xo.load_dataset(name=\"LIPID_DEMYLINATION\")\n",
    "df_lfq.head(5)\n"
   ],
   "metadata": {
    "collapsed": false,
    "ExecuteTime": {
     "end_time": "2023-10-19T09:42:20.569521924Z",
     "start_time": "2023-10-19T09:42:20.526932175Z"
    }
   }
  },
  {
   "cell_type": "code",
   "execution_count": null,
   "outputs": [],
   "source": [],
   "metadata": {
    "collapsed": false
   }
  }
 ],
 "metadata": {
  "kernelspec": {
   "display_name": "Python 3",
   "language": "python",
   "name": "python3"
  },
  "language_info": {
   "codemirror_mode": {
    "name": "ipython",
    "version": 2
   },
   "file_extension": ".py",
   "mimetype": "text/x-python",
   "name": "python",
   "nbconvert_exporter": "python",
   "pygments_lexer": "ipython2",
   "version": "2.7.6"
  }
 },
 "nbformat": 4,
 "nbformat_minor": 0
}
